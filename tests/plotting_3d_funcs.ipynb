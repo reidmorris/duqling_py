{
 "cells": [
  {
   "cell_type": "code",
   "execution_count": null,
   "id": "95525e8d",
   "metadata": {},
   "outputs": [],
   "source": [
    "import numpy as np\n",
    "import plotly.graph_objects as go\n",
    "\n",
    "from duqling_py import Duqling"
   ]
  },
  {
   "cell_type": "code",
   "execution_count": null,
   "id": "0734b0dc",
   "metadata": {},
   "outputs": [],
   "source": [
    "duqling = Duqling()"
   ]
  },
  {
   "cell_type": "markdown",
   "id": "dea737c3",
   "metadata": {},
   "source": [
    "Given some integer $n$ and duqling function $f$ with input dimension $m$:\n",
    "\n",
    "1. Denote $n$ equally spaced points along some dimension by the vector $\\vec{v} = [\\underbrace{\\,0\\,,\\,\\cdots,\\,1\\,}_n]$\n",
    "\n",
    "    Let $\\mathscr{S}$ be the set of $m$ vectors $\\vec{v}$ (essentially representing $n$ equally spaced points along each input dimension)\n",
    "    $$\n",
    "    \\mathscr{S} = \\{\\underbrace{\\vec{v}, \\ldots, \\vec{v}}_m\\}\n",
    "    $$\n",
    "\n",
    "2. Obtain all possible pairs of points $A = \\mathscr{S} \\times \\mathscr{S}$"
   ]
  },
  {
   "cell_type": "code",
   "execution_count": null,
   "id": "bd779596",
   "metadata": {},
   "outputs": [],
   "source": [
    "def quack_grid_data(function_name, n_points=50, **kwargs):\n",
    "    \n",
    "    func_info = duqling.quack(function_name)\n",
    "    input_dim = int(func_info['input_dim'])\n",
    "\n",
    "    # n equally spaced points along each input dim\n",
    "    axes = [np.linspace(0, 1, n_points) for _ in range(input_dim)]\n",
    "    \n",
    "    # the cartesian product of these points\n",
    "    mesh = np.meshgrid(*axes, indexing='ij')\n",
    "    X_grid = np.stack([m.ravel() for m in mesh], axis=-1)\n",
    "    \n",
    "    y = duqling.duq(X=X_grid, f=function_name, **kwargs)\n",
    "\n",
    "    return X_grid, y"
   ]
  },
  {
   "cell_type": "markdown",
   "id": "7c6e8b6b",
   "metadata": {},
   "source": [
    "To build a 3D mesh, we first need to obtain a grid of points, which is done by \n",
    "\n",
    "1. aggregating the second dimension of $X$ into two seperate arrays which are reshaped to be square matrices: \n",
    "$\\displaystyle \n",
    "\\underset{(n^2,\\,2)}{X} \n",
    "\\longrightarrow \n",
    "\\{\n",
    "\\underset{(n,\\,n)}{X'_1},\n",
    "\\underset{(n,\\,n)}{X'_2}\n",
    "\\}\n",
    "$\n",
    "\n",
    "2. reshaping $y$ similarly:\n",
    "$\n",
    "\\underset{(n^2,\\,1)}{y}\n",
    "\\longrightarrow \n",
    "\\underset{(n,\\,n)}{y}\n",
    "$\n",
    "\n",
    "> Recall: $n$ is the number of points sampled"
   ]
  },
  {
   "cell_type": "code",
   "execution_count": null,
   "id": "e0aa1560",
   "metadata": {},
   "outputs": [],
   "source": [
    "# note: the response type specification doesn't actually\n",
    "#       filter any data out, it's just for clarity.\n",
    "for func_name in duqling.quack(input_dim=2, response_type='uni').fname:\n",
    "    X, y = quack_grid_data(func_name, n_points=100)\n",
    "\n",
    "    x1_unique = np.unique(X[:, 0])\n",
    "    x2_unique = np.unique(X[:, 1])\n",
    "    nx, ny = len(x1_unique), len(x2_unique)\n",
    "    x1_grid = X[:, 0].reshape(nx, ny)\n",
    "    x2_grid = X[:, 1].reshape(nx, ny)\n",
    "    y_grid = y.reshape(nx, ny)\n",
    "\n",
    "    fig = go.Figure(go.Surface(x=x1_grid, y=x2_grid, z=y_grid))\n",
    "    fig.update_layout(dict(title=func_name, height=800))\n",
    "    fig.show()"
   ]
  }
 ],
 "metadata": {
  "kernelspec": {
   "display_name": "duqling_venv",
   "language": "python",
   "name": "python3"
  },
  "language_info": {
   "codemirror_mode": {
    "name": "ipython",
    "version": 3
   },
   "file_extension": ".py",
   "mimetype": "text/x-python",
   "name": "python",
   "nbconvert_exporter": "python",
   "pygments_lexer": "ipython3",
   "version": "3.11.4"
  }
 },
 "nbformat": 4,
 "nbformat_minor": 5
}
