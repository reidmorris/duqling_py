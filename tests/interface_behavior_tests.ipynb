{
 "cells": [
  {
   "cell_type": "code",
   "execution_count": 2,
   "id": "1e05053c",
   "metadata": {},
   "outputs": [],
   "source": [
    "import sys\n",
    "import os\n",
    "import time\n",
    "\n",
    "import numpy as np\n",
    "from tqdm.notebook import tqdm\n",
    "\n",
    "# add parent dir to be able to import utils file\n",
    "parent_dir = os.path.abspath('../../')\n",
    "if parent_dir not in sys.path:\n",
    "    sys.path.insert(0, parent_dir)\n",
    "\n",
    "from duqling_r_interface import DuqlingRInterface\n",
    "from duqling import Duqling as DuqlingPyInterface\n",
    "duq_r  = DuqlingRInterface()\n",
    "duq_py = DuqlingPyInterface()"
   ]
  },
  {
   "cell_type": "code",
   "execution_count": 3,
   "id": "4c314d97",
   "metadata": {},
   "outputs": [],
   "source": [
    "def lhs_array(n: int, d: int, seed: int | None = None) -> np.ndarray:\n",
    "    rng = np.random.default_rng(seed)\n",
    "    u = rng.random((n, d))\n",
    "    perms = np.column_stack([rng.permutation(n) for _ in range(d)])\n",
    "    return (perms + u) / n"
   ]
  },
  {
   "cell_type": "code",
   "execution_count": 4,
   "id": "af9b172d",
   "metadata": {},
   "outputs": [
    {
     "data": {
      "application/vnd.jupyter.widget-view+json": {
       "model_id": "36e4c9090b704becbb52ccd8e9c8f3fc",
       "version_major": 2,
       "version_minor": 0
      },
      "text/plain": [
       "  0%|          | 0/61 [00:00<?, ?it/s]"
      ]
     },
     "metadata": {},
     "output_type": "display_data"
    },
    {
     "name": "stdout",
     "output_type": "stream",
     "text": [
      "ocean_circ has inconsistent function outputs across language implementations\n"
     ]
    },
    {
     "name": "stderr",
     "output_type": "stream",
     "text": [
      "R[write to console]: Error in if (N[t] <= 0) { : missing value where TRUE/FALSE needed\n",
      "\n",
      "R[write to console]: In addition: \n",
      "R[write to console]: Warning messages:\n",
      "\n",
      "R[write to console]: 1: \n",
      "R[write to console]: In stats::rbinom(3, c(S[t - 1], I[t - 1], R[t - 1]), x[6:8]) :\n",
      "R[write to console]: \n",
      " \n",
      "R[write to console]:  NAs produced\n",
      "\n",
      "R[write to console]: 2: \n",
      "R[write to console]: In stats::rbinom(1, R[t - 1] - deaths[3], x[9]) :\n",
      "R[write to console]:  NAs produced\n",
      "\n"
     ]
    },
    {
     "name": "stdout",
     "output_type": "stream",
     "text": [
      "borehole_low_fidelity has inconsistent input_range values across language implementations\n",
      "An error occured while testing dts_sirs\n"
     ]
    }
   ],
   "source": [
    "NUM_SAMPLES = 100\n",
    "\n",
    "stochastic_piston_kwargs = dict( \n",
    "    Ta_generate = lambda:0.5, \n",
    "    P0_generate = lambda:0.5 \n",
    ")\n",
    "\n",
    "speedup = []\n",
    "\n",
    "for fname in tqdm(duq_r.quack().fname):\n",
    "    kwargs = stochastic_piston_kwargs if fname == 'stochastic_piston' else dict()\n",
    "    func_info_r  = duq_r .quack(fname)\n",
    "    func_info_py = duq_py.quack(fname)\n",
    "\n",
    "    # not all functions in the R duqling repo have 'stochastic' as a quack key\n",
    "    func_info_r  = {k:v for k,v in func_info_r .items() if k!='stochastic'}\n",
    "    func_info_py = {k:v for k,v in func_info_py.items() if k!='stochastic'}\n",
    "\n",
    "    try:\n",
    "        assert func_info_r.keys() == func_info_py.keys()\n",
    "    except:\n",
    "        print(f'{fname} has inconsistent quack keys across language implemetations')\n",
    "\n",
    "    for k,v_r in func_info_r.items():\n",
    "        v_py = func_info_py[k]\n",
    "\n",
    "        try: \n",
    "            assert type(v_r) == type(v_py)\n",
    "        except AssertionError:\n",
    "            print(f'{fname} has inconsistent {k} types across language implementations')\n",
    "\n",
    "        try:\n",
    "            if isinstance(v_r, np.ndarray):\n",
    "                assert (np.isclose(v_r, v_py)).all()\n",
    "            else:\n",
    "                assert v_r == v_py\n",
    "        except AssertionError:\n",
    "            print(f'{fname} has inconsistent {k} values across language implementations')\n",
    "\n",
    "    input_dim = func_info_r['input_dim']\n",
    "    X = lhs_array(NUM_SAMPLES, input_dim)\n",
    "    try:\n",
    "        t0 = time.time()\n",
    "        y_r = np.column_stack([duq_r .duq(x=x, f=fname, **kwargs) for x in X])\n",
    "        t_r = time.time() - t0\n",
    "        t0 = time.time()\n",
    "        y_p = np.column_stack([duq_py.duq(x=x, f=fname, **kwargs) for x in X])\n",
    "        t_p = time.time() - t0\n",
    "\n",
    "        speedup.append((t_r, t_p))\n",
    "    except:\n",
    "        print(f'An error occured while testing {fname}')\n",
    "\n",
    "    try:\n",
    "        assert np.isclose(y_r, y_p).all()  # output array shapes should match and values should be more or less identical\n",
    "    except AssertionError:\n",
    "        print(f'{fname} has inconsistent function outputs across language implementations')"
   ]
  },
  {
   "cell_type": "markdown",
   "id": "64feff14",
   "metadata": {},
   "source": [
    "## Summary of issues\n",
    "\n",
    "- `ocean_circ` is stochastic, so the failed equivalence test isn't totally surprising\n",
    "- `dts_sirs` fails to terminate early when N[t] is null ('N[t] <= 0' breaks in this case)\n",
    "- `ignition` uses different equation from paper\n",
    "    - The paper uses $r^5 \\bigl[1 + 100000 \\bigl(1 + \\operatorname{erf}(10 (r − 2))\\bigr)\\bigr]$\n",
    "    but the code uses $r^5 \\bigl[1+100000 \\bigl(2 \\operatorname{cdf}(10\\sqrt{2} (r-2))\\bigr)\\bigr]$\n",
    "- `borehole_low_fidelity` uses the upper bound 80 instead of 820 as the documentation and library describe"
   ]
  }
 ],
 "metadata": {
  "kernelspec": {
   "display_name": "duqling_venv",
   "language": "python",
   "name": "python3"
  },
  "language_info": {
   "codemirror_mode": {
    "name": "ipython",
    "version": 3
   },
   "file_extension": ".py",
   "mimetype": "text/x-python",
   "name": "python",
   "nbconvert_exporter": "python",
   "pygments_lexer": "ipython3",
   "version": "3.11.4"
  }
 },
 "nbformat": 4,
 "nbformat_minor": 5
}
