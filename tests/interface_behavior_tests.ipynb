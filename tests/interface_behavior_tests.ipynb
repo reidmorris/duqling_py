{
 "cells": [
  {
   "cell_type": "code",
   "execution_count": 1,
   "id": "1e05053c",
   "metadata": {},
   "outputs": [],
   "source": [
    "import numpy as np\n",
    "from scipy.stats.qmc import LatinHypercube\n",
    "from tqdm.notebook import tqdm\n",
    "\n",
    "from duqling_py.duqling_r import DuqlingR\n",
    "from duqling_py.duqling import Duqling as DuqlingPy"
   ]
  },
  {
   "cell_type": "code",
   "execution_count": 2,
   "id": "5dcc9c50",
   "metadata": {},
   "outputs": [],
   "source": [
    "duq_r  = DuqlingR()\n",
    "duq_py = DuqlingPy()"
   ]
  },
  {
   "cell_type": "code",
   "execution_count": 3,
   "id": "4c314d97",
   "metadata": {},
   "outputs": [],
   "source": [
    "def lhs_array(n: int, d: int, ranges: np.ndarray | None = None, seed: int | None = None) -> np.ndarray:\n",
    "    sampler = LatinHypercube(d, seed=seed)\n",
    "    samples = sampler.random(n)\n",
    "    if ranges is not None:\n",
    "        samples = ranges[:, 0] + samples * (ranges[:, 1] - ranges[:, 0])\n",
    "    return samples"
   ]
  },
  {
   "cell_type": "code",
   "execution_count": 4,
   "id": "af9b172d",
   "metadata": {},
   "outputs": [
    {
     "data": {
      "application/vnd.jupyter.widget-view+json": {
       "model_id": "7819746fd1bd472c9189fc0a0ef8ce9e",
       "version_major": 2,
       "version_minor": 0
      },
      "text/plain": [
       "  0%|          | 0/69 [00:00<?, ?it/s]"
      ]
     },
     "metadata": {},
     "output_type": "display_data"
    },
    {
     "name": "stdout",
     "output_type": "stream",
     "text": [
      "ocean_circ has inconsistent function outputs across language implementations\n"
     ]
    },
    {
     "name": "stderr",
     "output_type": "stream",
     "text": [
      "/Users/reidmorris/Desktop/duqling/.venv/lib/python3.11/site-packages/numpy/_core/numeric.py:387: RuntimeWarning: invalid value encountered in cast\n",
      "  multiarray.copyto(a, fill_value, casting='unsafe')\n",
      "/Users/reidmorris/Desktop/duqling/.venv/lib/python3.11/site-packages/duqling_py/functions/dts_sirs.py:25: RuntimeWarning: overflow encountered in scalar add\n",
      "  S[t] = S[t-1] + births - deaths[0] - infect + resusc\n",
      "/Users/reidmorris/Desktop/duqling/.venv/lib/python3.11/site-packages/duqling_py/functions/dts_sirs.py:25: RuntimeWarning: overflow encountered in scalar subtract\n",
      "  S[t] = S[t-1] + births - deaths[0] - infect + resusc\n"
     ]
    },
    {
     "name": "stdout",
     "output_type": "stream",
     "text": [
      "dts_sirs has inconsistent function outputs across language implementations\n"
     ]
    }
   ],
   "source": [
    "NUM_SAMPLES = 100\n",
    "\n",
    "stochastic_piston_kwargs = dict( \n",
    "    Ta_generate = lambda:13, \n",
    "    P0_generate = lambda:0.5\n",
    ")\n",
    "\n",
    "for fname in tqdm(duq_r.quack().fname):\n",
    "    kwargs = stochastic_piston_kwargs if fname == 'stochastic_piston' else dict()\n",
    "    func_info_r  = duq_r .quack(fname)\n",
    "    func_info_py = duq_py.quack(fname)\n",
    "\n",
    "    # not all functions in the R duqling repo have 'stochastic' and 'output_dim' as a quack key\n",
    "    func_info_r  = {k:v for k,v in func_info_r .items() if k not in ['stochastic', 'output_dim']}\n",
    "    func_info_py = {k:v for k,v in func_info_py.items() if k not in ['stochastic', 'output_dim']}\n",
    "\n",
    "    try:\n",
    "        assert func_info_r.keys() == func_info_py.keys()\n",
    "    except:\n",
    "        print(f'{fname} has inconsistent quack keys across language implemetations')\n",
    "\n",
    "    for k,v_r in func_info_r.items():\n",
    "        v_py = func_info_py[k]\n",
    "\n",
    "        try: \n",
    "            assert type(v_r) == type(v_py)\n",
    "        except AssertionError:\n",
    "            print(f'{fname} has inconsistent {k} types across language implementations')\n",
    "\n",
    "        try:\n",
    "            if isinstance(v_r, np.ndarray):\n",
    "                assert (np.isclose(v_r, v_py)).all()\n",
    "            else:\n",
    "                assert v_r == v_py\n",
    "        except AssertionError:\n",
    "            print(f'{fname} has inconsistent {k} values across language implementations')\n",
    "    \n",
    "    input_dim   = func_info_py['input_dim']\n",
    "    input_range = func_info_py['input_range']\n",
    "\n",
    "    try:\n",
    "        assert input_dim == input_range.shape[0]\n",
    "    except:\n",
    "        print(f'{fname} input ranges inconsistent with input dimension')\n",
    "    \n",
    "    X = lhs_array(NUM_SAMPLES, input_dim, input_range)\n",
    "\n",
    "    try:\n",
    "        y_r = duq_r .duq(X=X, f=fname, scale01=False, **kwargs)\n",
    "        y_p = duq_py.duq(X=X, f=fname, scale01=False, **kwargs)\n",
    "        try:\n",
    "            assert y_r.shape == y_p.shape\n",
    "            try:\n",
    "                assert np.isclose(y_r, y_p, equal_nan=True).all()\n",
    "            except AssertionError:\n",
    "                print(f'{fname} has inconsistent function outputs across language implementations')\n",
    "        except AssertionError:\n",
    "            print(f'{fname} has inconsistent array output shapes across language implementations')\n",
    "    except:\n",
    "        print(f'An error occured while testing {fname}')"
   ]
  },
  {
   "cell_type": "markdown",
   "id": "64feff14",
   "metadata": {},
   "source": [
    "## Summary of issues\n",
    "\n",
    "- `ocean_circ` and `dts_sirs` are stochastic, so the failed equivalence tests aren't surprising"
   ]
  }
 ],
 "metadata": {
  "kernelspec": {
   "display_name": ".venv",
   "language": "python",
   "name": "python3"
  },
  "language_info": {
   "codemirror_mode": {
    "name": "ipython",
    "version": 3
   },
   "file_extension": ".py",
   "mimetype": "text/x-python",
   "name": "python",
   "nbconvert_exporter": "python",
   "pygments_lexer": "ipython3",
   "version": "3.11.4"
  }
 },
 "nbformat": 4,
 "nbformat_minor": 5
}
