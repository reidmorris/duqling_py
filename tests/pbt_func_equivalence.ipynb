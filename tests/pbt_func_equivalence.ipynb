{
 "cells": [
  {
   "cell_type": "code",
   "execution_count": 1,
   "id": "1e05053c",
   "metadata": {},
   "outputs": [],
   "source": [
    "import sys\n",
    "import os\n",
    "\n",
    "import numpy as np\n",
    "from tqdm.notebook import tqdm\n",
    "\n",
    "# add parent dir to be able to import utils file\n",
    "parent_dir = os.path.abspath('../../')\n",
    "if parent_dir not in sys.path:\n",
    "    sys.path.insert(0, parent_dir)\n",
    "\n",
    "import duqling_py.functions as functions\n",
    "from duqling_py.tests.duqling_r_interface import DuqlingRInterface\n",
    "duq_r = DuqlingRInterface()"
   ]
  },
  {
   "cell_type": "code",
   "execution_count": 14,
   "id": "4c314d97",
   "metadata": {},
   "outputs": [],
   "source": [
    "def lhs_array(n: int, d: int, seed: int | None = None) -> np.ndarray:\n",
    "    rng = np.random.default_rng(seed)\n",
    "    u = rng.random((n, d))\n",
    "    perms = np.column_stack([rng.permutation(n) for _ in range(d)])\n",
    "    return (perms + u) / n"
   ]
  },
  {
   "cell_type": "code",
   "execution_count": 32,
   "id": "af9b172d",
   "metadata": {},
   "outputs": [
    {
     "data": {
      "application/vnd.jupyter.widget-view+json": {
       "model_id": "0672c3a1a68245c1a2ddb7c3eae602ef",
       "version_major": 2,
       "version_minor": 0
      },
      "text/plain": [
       "  0%|          | 0/61 [00:00<?, ?it/s]"
      ]
     },
     "metadata": {},
     "output_type": "display_data"
    },
    {
     "name": "stderr",
     "output_type": "stream",
     "text": [
      "R[write to console]: Error in if (N[t] <= 0) { : missing value where TRUE/FALSE needed\n",
      "\n",
      "R[write to console]: In addition: \n",
      "R[write to console]: Warning messages:\n",
      "\n",
      "R[write to console]: 1: \n",
      "R[write to console]: In stats::rbinom(3, c(S[t - 1], I[t - 1], R[t - 1]), x[6:8]) :\n",
      "R[write to console]: \n",
      " \n",
      "R[write to console]:  NAs produced\n",
      "\n",
      "R[write to console]: 2: \n",
      "R[write to console]: In stats::rbinom(1, R[t - 1] - deaths[3], x[9]) :\n",
      "R[write to console]:  NAs produced\n",
      "\n"
     ]
    },
    {
     "name": "stdout",
     "output_type": "stream",
     "text": [
      "The following functions failed the equivalence test:\n",
      "\t- ocean_circ\n",
      "\t- dts_sirs\n"
     ]
    }
   ],
   "source": [
    "NUM_SAMPLES = 100\n",
    "failed_funcs = []\n",
    "\n",
    "stochastic_piston_kwargs = dict( \n",
    "    Ta_generate = lambda:0.5, \n",
    "    P0_generate = lambda:0.5 \n",
    ")\n",
    "\n",
    "for fname in tqdm(duq_r.quack().fname):\n",
    "    try:\n",
    "        func_info = duq_r.quack(fname)\n",
    "        input_dim = int(func_info['input_dim'][0])\n",
    "        X = lhs_array(NUM_SAMPLES, input_dim)\n",
    "        \n",
    "        duq_py_func = getattr(functions, fname)\n",
    "        kwargs = stochastic_piston_kwargs if fname == 'stochastic_piston' else dict()\n",
    "        y_r = np.column_stack([duq_r.duq(x=x, f=fname, **kwargs) for x in X])\n",
    "        y_p = np.column_stack([duq_py_func(x, **kwargs) for x in X])\n",
    "\n",
    "        assert np.isclose(y_r, y_p).all()  # output array shapes should match and values should be more or less identical\n",
    "    except:\n",
    "        failed_funcs.append(fname)\n",
    "\n",
    "if failed_funcs:\n",
    "    print(\"The following functions failed the equivalence test:\")\n",
    "    for f in failed_funcs:\n",
    "        print('\\t- '+f)"
   ]
  },
  {
   "cell_type": "markdown",
   "id": "64feff14",
   "metadata": {},
   "source": [
    "## Summary of issues\n",
    "\n",
    "- `ocean_circ` is stochastic, so the failed equivalence test isn't totally surprising\n",
    "- `dts_sirs` fails to terminate early when N[t] is null ('N[t] <= 0' breaks in this case)\n",
    "- `ignition` uses different equation from paper\n",
    "    - The paper uses $r^5 \\bigl[1 + 100000 \\bigl(1 + \\operatorname{erf}(10 (r − 2))\\bigr)\\bigr]$\n",
    "    but the code uses $r^5 \\bigl[1+100000 \\bigl(2 \\operatorname{cdf}(10\\sqrt{2} (r-2))\\bigr)\\bigr]$"
   ]
  }
 ],
 "metadata": {
  "kernelspec": {
   "display_name": "duqling_venv",
   "language": "python",
   "name": "python3"
  },
  "language_info": {
   "codemirror_mode": {
    "name": "ipython",
    "version": 3
   },
   "file_extension": ".py",
   "mimetype": "text/x-python",
   "name": "python",
   "nbconvert_exporter": "python",
   "pygments_lexer": "ipython3",
   "version": "3.11.4"
  }
 },
 "nbformat": 4,
 "nbformat_minor": 5
}
