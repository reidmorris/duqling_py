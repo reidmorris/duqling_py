{
 "cells": [
  {
   "cell_type": "code",
   "execution_count": 1,
   "id": "1e05053c",
   "metadata": {},
   "outputs": [],
   "source": [
    "import sys\n",
    "import os\n",
    "\n",
    "from typing import Optional, Union, Tuple\n",
    "import numpy as np\n",
    "\n",
    "# add parent dir to be able to import utils file\n",
    "parent_dir = os.path.abspath('../../')\n",
    "if parent_dir not in sys.path:\n",
    "    sys.path.insert(0, parent_dir)\n",
    "\n",
    "import duqling_py.functions as functions\n",
    "from duqling_interface import DuqlingInterface\n",
    "duq_r = DuqlingInterface()"
   ]
  },
  {
   "cell_type": "code",
   "execution_count": 7,
   "id": "f0eb2ceb",
   "metadata": {},
   "outputs": [],
   "source": [
    "def lhs_array(n, d, seed=None) -> np.array:\n",
    "    if seed is not None: np.random.seed(seed)\n",
    "    samples = (np.arange(n)[:, None] + np.random.rand(n, d)) / n\n",
    "    for i in range(d):\n",
    "        samples[:, i] = np.random.permutation(samples[:, i])\n",
    "    return samples"
   ]
  },
  {
   "cell_type": "code",
   "execution_count": 3,
   "id": "af9b172d",
   "metadata": {},
   "outputs": [
    {
     "name": "stderr",
     "output_type": "stream",
     "text": [
      "/Users/reidmorris/Desktop/duqling/duqling_venv/lib/python3.11/site-packages/numpy/_core/numeric.py:353: RuntimeWarning: invalid value encountered in cast\n",
      "  multiarray.copyto(a, fill_value, casting='unsafe')\n",
      "/Users/reidmorris/Desktop/duqling/duqling_py/functions/dts_sirs.py:22: RuntimeWarning: overflow encountered in scalar add\n",
      "  S[t] = S[t-1] + births - deaths[0] - infect + resusc\n",
      "/Users/reidmorris/Desktop/duqling/duqling_py/functions/dts_sirs.py:22: RuntimeWarning: overflow encountered in scalar subtract\n",
      "  S[t] = S[t-1] + births - deaths[0] - infect + resusc\n"
     ]
    }
   ],
   "source": [
    "NUM_SAMPLES = 100\n",
    "all_fnames = duq_r.list_functions().fname\n",
    "failed_funcs = []\n",
    "for fname in all_fnames:\n",
    "\n",
    "    if fname == 'cube3_rotate': # currently broken\n",
    "        continue\n",
    "\n",
    "    func_info = duq_r.get_function_info(fname)\n",
    "    input_dim = int(func_info['input_dim'][0])\n",
    "    input_dim = 9 if fname == 'dts_sirs' else input_dim\n",
    "    X = lhs_array(NUM_SAMPLES, input_dim)\n",
    "    X_after, y_r = duq_r.generate_data(fname, 1, X.copy())\n",
    "\n",
    "    assert (X == X_after).all() # make sure X isn't being mutated by generate_data\n",
    "\n",
    "    duq_py_func = getattr(functions, fname)\n",
    "    y_r = duq_r.generate_data(fname, X=X)[1]\n",
    "    y_p = np.array(list(map(duq_py_func, X)))\n",
    "\n",
    "    try:\n",
    "        assert np.isclose(y_r, y_p).all()  # output array shapes should match and values should be more or less identical\n",
    "    except:\n",
    "        failed_funcs.append(fname)"
   ]
  },
  {
   "cell_type": "code",
   "execution_count": 9,
   "id": "d68d8bed",
   "metadata": {},
   "outputs": [
    {
     "data": {
      "text/plain": [
       "['simple_machine',\n",
       " 'vinet',\n",
       " 'ocean_circ',\n",
       " 'pollutant',\n",
       " 'beam_deflection',\n",
       " 'simple_machine_cm',\n",
       " 'stochastic_piston',\n",
       " 'cantilever_D',\n",
       " 'cantilever_S',\n",
       " 'dts_sirs',\n",
       " 'ignition']"
      ]
     },
     "execution_count": 9,
     "metadata": {},
     "output_type": "execute_result"
    }
   ],
   "source": [
    "failed_funcs"
   ]
  },
  {
   "cell_type": "code",
   "execution_count": 17,
   "id": "c9386e7d",
   "metadata": {},
   "outputs": [
    {
     "data": {
      "text/html": [
       "<div>\n",
       "<style scoped>\n",
       "    .dataframe tbody tr th:only-of-type {\n",
       "        vertical-align: middle;\n",
       "    }\n",
       "\n",
       "    .dataframe tbody tr th {\n",
       "        vertical-align: top;\n",
       "    }\n",
       "\n",
       "    .dataframe thead th {\n",
       "        text-align: right;\n",
       "    }\n",
       "</style>\n",
       "<table border=\"1\" class=\"dataframe\">\n",
       "  <thead>\n",
       "    <tr style=\"text-align: right;\">\n",
       "      <th></th>\n",
       "      <th>fname</th>\n",
       "      <th>input_dim</th>\n",
       "      <th>input_cat</th>\n",
       "      <th>response_type</th>\n",
       "      <th>stochastic</th>\n",
       "    </tr>\n",
       "  </thead>\n",
       "  <tbody>\n",
       "    <tr>\n",
       "      <th>24</th>\n",
       "      <td>simple_machine</td>\n",
       "      <td>3.0</td>\n",
       "      <td>False</td>\n",
       "      <td>func</td>\n",
       "      <td>n</td>\n",
       "    </tr>\n",
       "    <tr>\n",
       "      <th>25</th>\n",
       "      <td>vinet</td>\n",
       "      <td>3.0</td>\n",
       "      <td>False</td>\n",
       "      <td>func</td>\n",
       "      <td>n</td>\n",
       "    </tr>\n",
       "    <tr>\n",
       "      <th>26</th>\n",
       "      <td>ocean_circ</td>\n",
       "      <td>4.0</td>\n",
       "      <td>False</td>\n",
       "      <td>uni</td>\n",
       "      <td>y</td>\n",
       "    </tr>\n",
       "    <tr>\n",
       "      <th>29</th>\n",
       "      <td>pollutant</td>\n",
       "      <td>4.0</td>\n",
       "      <td>False</td>\n",
       "      <td>func</td>\n",
       "      <td>n</td>\n",
       "    </tr>\n",
       "    <tr>\n",
       "      <th>31</th>\n",
       "      <td>beam_deflection</td>\n",
       "      <td>5.0</td>\n",
       "      <td>False</td>\n",
       "      <td>func</td>\n",
       "      <td>n</td>\n",
       "    </tr>\n",
       "    <tr>\n",
       "      <th>35</th>\n",
       "      <td>simple_machine_cm</td>\n",
       "      <td>5.0</td>\n",
       "      <td>False</td>\n",
       "      <td>func</td>\n",
       "      <td>n</td>\n",
       "    </tr>\n",
       "    <tr>\n",
       "      <th>36</th>\n",
       "      <td>stochastic_piston</td>\n",
       "      <td>5.0</td>\n",
       "      <td>False</td>\n",
       "      <td>uni</td>\n",
       "      <td>y</td>\n",
       "    </tr>\n",
       "    <tr>\n",
       "      <th>37</th>\n",
       "      <td>cantilever_D</td>\n",
       "      <td>6.0</td>\n",
       "      <td>False</td>\n",
       "      <td>uni</td>\n",
       "      <td>n</td>\n",
       "    </tr>\n",
       "    <tr>\n",
       "      <th>38</th>\n",
       "      <td>cantilever_S</td>\n",
       "      <td>6.0</td>\n",
       "      <td>False</td>\n",
       "      <td>uni</td>\n",
       "      <td>n</td>\n",
       "    </tr>\n",
       "    <tr>\n",
       "      <th>48</th>\n",
       "      <td>dts_sirs</td>\n",
       "      <td>9.0</td>\n",
       "      <td>False</td>\n",
       "      <td>func</td>\n",
       "      <td>y</td>\n",
       "    </tr>\n",
       "    <tr>\n",
       "      <th>52</th>\n",
       "      <td>ignition</td>\n",
       "      <td>10.0</td>\n",
       "      <td>False</td>\n",
       "      <td>uni</td>\n",
       "      <td>n</td>\n",
       "    </tr>\n",
       "  </tbody>\n",
       "</table>\n",
       "</div>"
      ],
      "text/plain": [
       "                fname  input_dim  input_cat response_type stochastic\n",
       "24     simple_machine        3.0      False          func          n\n",
       "25              vinet        3.0      False          func          n\n",
       "26         ocean_circ        4.0      False           uni          y\n",
       "29          pollutant        4.0      False          func          n\n",
       "31    beam_deflection        5.0      False          func          n\n",
       "35  simple_machine_cm        5.0      False          func          n\n",
       "36  stochastic_piston        5.0      False           uni          y\n",
       "37       cantilever_D        6.0      False           uni          n\n",
       "38       cantilever_S        6.0      False           uni          n\n",
       "48           dts_sirs        9.0      False          func          y\n",
       "52           ignition       10.0      False           uni          n"
      ]
     },
     "execution_count": 17,
     "metadata": {},
     "output_type": "execute_result"
    }
   ],
   "source": [
    "df = duq_r.list_functions()\n",
    "df[df.fname.isin(failed_funcs)]"
   ]
  },
  {
   "cell_type": "code",
   "execution_count": 43,
   "id": "2930e174",
   "metadata": {},
   "outputs": [
    {
     "data": {
      "text/plain": [
       "np.False_"
      ]
     },
     "execution_count": 43,
     "metadata": {},
     "output_type": "execute_result"
    }
   ],
   "source": [
    "fname = 'ignition'\n",
    "\n",
    "func_info = duq_r.get_function_info(fname)\n",
    "input_dim = int(func_info['input_dim'][0])\n",
    "X = lhs_array(NUM_SAMPLES, input_dim)\n",
    "X_after, y_r = duq_r.generate_data(fname, 1, X.copy())\n",
    "\n",
    "duq_py_func = getattr(functions, fname)\n",
    "y_r = duq_r.generate_data(fname, X=X)[1]\n",
    "y_p = np.array(list(map(duq_py_func, X)))\n",
    "\n",
    "np.isclose(y_r, y_p.transpose()).all()"
   ]
  }
 ],
 "metadata": {
  "kernelspec": {
   "display_name": "duqling_venv",
   "language": "python",
   "name": "python3"
  },
  "language_info": {
   "codemirror_mode": {
    "name": "ipython",
    "version": 3
   },
   "file_extension": ".py",
   "mimetype": "text/x-python",
   "name": "python",
   "nbconvert_exporter": "python",
   "pygments_lexer": "ipython3",
   "version": "3.11.4"
  }
 },
 "nbformat": 4,
 "nbformat_minor": 5
}
