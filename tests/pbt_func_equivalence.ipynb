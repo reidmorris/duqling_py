{
 "cells": [
  {
   "cell_type": "code",
   "execution_count": 1,
   "id": "1e05053c",
   "metadata": {},
   "outputs": [],
   "source": [
    "import sys\n",
    "import os\n",
    "\n",
    "from typing import Optional, Union, Tuple\n",
    "import numpy as np\n",
    "from tqdm.notebook import tqdm\n",
    "\n",
    "# add parent dir to be able to import utils file\n",
    "parent_dir = os.path.abspath('../../')\n",
    "if parent_dir not in sys.path:\n",
    "    sys.path.insert(0, parent_dir)\n",
    "\n",
    "import duqling_py.functions as functions\n",
    "from duqling_interface import DuqlingInterface\n",
    "duq_r = DuqlingInterface()"
   ]
  },
  {
   "cell_type": "code",
   "execution_count": 2,
   "id": "f0eb2ceb",
   "metadata": {},
   "outputs": [],
   "source": [
    "def lhs_array(n, d, seed=None) -> np.array:\n",
    "    if seed is not None: np.random.seed(seed)\n",
    "    samples = (np.arange(n)[:, None] + np.random.rand(n, d)) / n\n",
    "    for i in range(d):\n",
    "        samples[:, i] = np.random.permutation(samples[:, i])\n",
    "    return samples"
   ]
  },
  {
   "cell_type": "code",
   "execution_count": 66,
   "id": "af9b172d",
   "metadata": {},
   "outputs": [
    {
     "data": {
      "application/vnd.jupyter.widget-view+json": {
       "model_id": "36ec366bd7b74d21ad9ebfbcdfe944ca",
       "version_major": 2,
       "version_minor": 0
      },
      "text/plain": [
       "  0%|          | 0/61 [00:00<?, ?it/s]"
      ]
     },
     "metadata": {},
     "output_type": "display_data"
    }
   ],
   "source": [
    "NUM_SAMPLES = 100\n",
    "all_fnames = duq_r.list_functions().fname\n",
    "failed_funcs = []\n",
    "\n",
    "stochastic_piston_kwargs = dict( \n",
    "    Ta_generate = lambda:0.5, \n",
    "    P0_generate = lambda:0.5 \n",
    ")\n",
    "\n",
    "for fname in tqdm(all_fnames):\n",
    "\n",
    "    if fname == 'dts_sirs': # currently broken\n",
    "        continue\n",
    "\n",
    "    func_info = duq_r.get_function_info(fname)\n",
    "    input_dim = int(func_info['input_dim'][0])\n",
    "    X = lhs_array(NUM_SAMPLES, input_dim)\n",
    "    X_before = X.copy()\n",
    "    \n",
    "    duq_py_func = getattr(functions, fname)\n",
    "    kwargs = stochastic_piston_kwargs if fname == 'stochastic_piston' else dict()\n",
    "    y_p = np.apply_along_axis(duq_py_func, 1, X, **kwargs)\n",
    "    X, y_r = duq_r.generate_data(fname, X=X, **kwargs)\n",
    "\n",
    "    assert (X_before == X).all() # make sure X isn't mutated\n",
    "\n",
    "    try:\n",
    "        assert np.isclose(y_r, y_p).all()  # output array shapes should match and values should be more or less identical\n",
    "    except:\n",
    "        failed_funcs.append(fname)"
   ]
  },
  {
   "cell_type": "code",
   "execution_count": 69,
   "id": "d68d8bed",
   "metadata": {},
   "outputs": [
    {
     "name": "stdout",
     "output_type": "stream",
     "text": [
      "The following functions failed the above tests:\n",
      "\t- simple_machine\n",
      "\t- vinet\n",
      "\t- ocean_circ\n",
      "\t- pollutant\n",
      "\t- beam_deflection\n",
      "\t- simple_machine_cm\n"
     ]
    }
   ],
   "source": [
    "print(\"The following functions failed the above tests:\")\n",
    "for f in failed_funcs:\n",
    "    print('\\t- '+f)"
   ]
  },
  {
   "cell_type": "code",
   "execution_count": 85,
   "id": "2930e174",
   "metadata": {},
   "outputs": [
    {
     "name": "stdout",
     "output_type": "stream",
     "text": [
      "Functions whose Python/R implementations are significantly different\n",
      "\t- ocean_circ\n",
      "\n",
      "Functions that output inccorectly transposed arrays:\n",
      "\t- simple_machine\n",
      "\t- vinet\n",
      "\t- pollutant\n",
      "\t- beam_deflection\n",
      "\t- simple_machine_cm\n"
     ]
    }
   ],
   "source": [
    "incorrect_tranpose = []\n",
    "for fname in failed_funcs:\n",
    "    func_info = duq_r.get_function_info(fname)\n",
    "    input_dim = int(func_info['input_dim'][0])\n",
    "    X = lhs_array(NUM_SAMPLES, input_dim)\n",
    "    X_after, y_r = duq_r.generate_data(fname, 1, X.copy())\n",
    "\n",
    "    duq_py_func = getattr(functions, fname)\n",
    "    y_r = duq_r.generate_data(fname, X=X)[1]\n",
    "    y_p = np.array(list(map(duq_py_func, X)))\n",
    "\n",
    "    if np.isclose(y_r, y_p.transpose()).all():\n",
    "        incorrect_tranpose.append(fname)\n",
    "\n",
    "print(\"Functions whose Python/R implementations are significantly different\")\n",
    "for func in set(failed_funcs) ^ set(incorrect_tranpose):\n",
    "    print(f'\\t- {func}')\n",
    "\n",
    "print(\"\\nFunctions that output inccorectly transposed arrays:\")\n",
    "for func in incorrect_tranpose:\n",
    "    print(f'\\t- {func}')"
   ]
  },
  {
   "cell_type": "markdown",
   "id": "64feff14",
   "metadata": {},
   "source": [
    "## Summary of issues\n",
    "\n",
    "- $\\texttt{ignition}$ uses different equation from paper\n",
    "    - The paper uses $r^5 (1 + 100000 \\times (1 + \\operatorname{erf}(10 \\times (r − 2))))$ \n",
    "    but the code uses $r^5 (1+100000 \\times (2 \\times \\operatorname{cdf}(\\sqrt{2}*10*(r-2))))$\n",
    "- $\\texttt{dts\\_sirs}$ fails to terminate early when N[t] is null ('N[t] <= 0' breaks in this case)\n",
    "- $\\texttt{simple\\_machine, vinet, pollutant, beam\\_deflection, simple\\_machine\\_cm}$ transposed incorrectly\n",
    "    - Currently, R duqling outputs arrays with shape (output_dim, n_samples) instead of the traditional (n_samples, output_dim):\n",
    "    $$\n",
    "    \\begin{bmatrix}\n",
    "        | & & | \\\\\n",
    "        \\text{sample 1} & \\cdots & \\text{sample n}\\\\\n",
    "        | & & |\n",
    "    \\end{bmatrix}\n",
    "    \\quad\n",
    "    \\text{instead of}\n",
    "    \\quad\n",
    "    \\begin{bmatrix}\n",
    "        & – & \\text{sample 1} & – & \\\\\n",
    "        & & \\vdots & & \\\\\n",
    "        & – & \\text{sample n} & – &\n",
    "    \\end{bmatrix}\n",
    "    $$\n",
    "    - Is this the intended behavior?"
   ]
  },
  {
   "cell_type": "markdown",
   "id": "2c7d8b24",
   "metadata": {},
   "source": []
  }
 ],
 "metadata": {
  "kernelspec": {
   "display_name": "duqling_venv",
   "language": "python",
   "name": "python3"
  },
  "language_info": {
   "codemirror_mode": {
    "name": "ipython",
    "version": 3
   },
   "file_extension": ".py",
   "mimetype": "text/x-python",
   "name": "python",
   "nbconvert_exporter": "python",
   "pygments_lexer": "ipython3",
   "version": "3.11.4"
  }
 },
 "nbformat": 4,
 "nbformat_minor": 5
}
